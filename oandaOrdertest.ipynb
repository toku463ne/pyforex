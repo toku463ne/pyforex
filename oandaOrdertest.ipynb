{
 "cells": [
  {
   "cell_type": "code",
   "execution_count": null,
   "metadata": {},
   "outputs": [],
   "source": [
    "import json\n",
    "import lib.oanda as oandalib\n",
    "\n",
    "from oandapyV20.contrib.requests import (\n",
    "    MarketOrderRequest,\n",
    "    TakeProfitDetails,\n",
    "    StopLossDetails\n",
    ")\n",
    "\n",
    "import oandapyV20.endpoints.orders as orders\n",
    "\n",
    "api = oandalib.getApiEndPoint()\n",
    "\n",
    "mktOrder = MarketOrderRequest(\n",
    "    instrument=\"EUR_USD\",\n",
    "    units=10000,\n",
    "    takeProfitOnFill=TakeProfitDetails(price=EUR_USD_TAKE_PROFIT).data,\n",
    "    stopLossOnFill=StopLossDetails(price=EUR_USD_STOP_LOSS).data\n",
    ")\n",
    "\n",
    "r = orders.OrderCreate(accountID, data=mktOrder.data)\n",
    "print(r)\n"
   ]
  }
 ],
 "metadata": {
  "kernelspec": {
   "display_name": "Python 3",
   "language": "python",
   "name": "python3"
  },
  "language_info": {
   "codemirror_mode": {
    "name": "ipython",
    "version": 3
   },
   "file_extension": ".py",
   "mimetype": "text/x-python",
   "name": "python",
   "nbconvert_exporter": "python",
   "pygments_lexer": "ipython3",
   "version": "3.7.3"
  }
 },
 "nbformat": 4,
 "nbformat_minor": 2
}
