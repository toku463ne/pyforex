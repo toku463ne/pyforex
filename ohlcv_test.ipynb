{
 "cells": [
  {
   "cell_type": "markdown",
   "metadata": {},
   "source": [
    "# ohlcv test"
   ]
  },
  {
   "cell_type": "code",
   "execution_count": 26,
   "metadata": {},
   "outputs": [],
   "source": [
    "%matplotlib inline\n",
    "\n",
    "import env\n",
    "import lib\n",
    "env.run_mode = env.MODE_UNITTEST\n",
    "from data_getter.mssql import MSSQLGetter\n",
    "from data_getter.oanda import OandaGetter\n",
    "from data_getter.pandas_getter import PandasGetter\n",
    "\n",
    "import matplotlib.pyplot as plt\n",
    "from matplotlib import ticker \n",
    "import numpy as np\n",
    "import pandas as pd\n",
    "import mpl_finance\n",
    "from matplotlib.dates import date2num\n",
    "import matplotlib.dates as mdates\n"
   ]
  },
  {
   "cell_type": "code",
   "execution_count": 27,
   "metadata": {},
   "outputs": [
    {
     "data": {
      "text/html": [
       "<div>\n",
       "<style scoped>\n",
       "    .dataframe tbody tr th:only-of-type {\n",
       "        vertical-align: middle;\n",
       "    }\n",
       "\n",
       "    .dataframe tbody tr th {\n",
       "        vertical-align: top;\n",
       "    }\n",
       "\n",
       "    .dataframe thead th {\n",
       "        text-align: right;\n",
       "    }\n",
       "</style>\n",
       "<table border=\"1\" class=\"dataframe\">\n",
       "  <thead>\n",
       "    <tr style=\"text-align: right;\">\n",
       "      <th></th>\n",
       "      <th>o</th>\n",
       "      <th>h</th>\n",
       "      <th>l</th>\n",
       "      <th>c</th>\n",
       "      <th>v</th>\n",
       "    </tr>\n",
       "  </thead>\n",
       "  <tbody>\n",
       "    <tr>\n",
       "      <th>2019-04-02 07:00:00+00:00</th>\n",
       "      <td>111.373</td>\n",
       "      <td>111.421</td>\n",
       "      <td>111.357</td>\n",
       "      <td>111.370</td>\n",
       "      <td>448.0</td>\n",
       "    </tr>\n",
       "    <tr>\n",
       "      <th>2019-04-02 08:00:00+00:00</th>\n",
       "      <td>111.372</td>\n",
       "      <td>111.396</td>\n",
       "      <td>111.344</td>\n",
       "      <td>111.391</td>\n",
       "      <td>301.0</td>\n",
       "    </tr>\n",
       "    <tr>\n",
       "      <th>2019-04-02 09:00:00+00:00</th>\n",
       "      <td>111.394</td>\n",
       "      <td>111.402</td>\n",
       "      <td>111.310</td>\n",
       "      <td>111.359</td>\n",
       "      <td>372.0</td>\n",
       "    </tr>\n",
       "    <tr>\n",
       "      <th>2019-04-02 10:00:00+00:00</th>\n",
       "      <td>111.356</td>\n",
       "      <td>111.381</td>\n",
       "      <td>111.322</td>\n",
       "      <td>111.356</td>\n",
       "      <td>362.0</td>\n",
       "    </tr>\n",
       "    <tr>\n",
       "      <th>2019-04-02 11:00:00+00:00</th>\n",
       "      <td>111.354</td>\n",
       "      <td>111.386</td>\n",
       "      <td>111.294</td>\n",
       "      <td>111.366</td>\n",
       "      <td>470.0</td>\n",
       "    </tr>\n",
       "  </tbody>\n",
       "</table>\n",
       "</div>"
      ],
      "text/plain": [
       "                                 o        h        l        c      v\n",
       "2019-04-02 07:00:00+00:00  111.373  111.421  111.357  111.370  448.0\n",
       "2019-04-02 08:00:00+00:00  111.372  111.396  111.344  111.391  301.0\n",
       "2019-04-02 09:00:00+00:00  111.394  111.402  111.310  111.359  372.0\n",
       "2019-04-02 10:00:00+00:00  111.356  111.381  111.322  111.356  362.0\n",
       "2019-04-02 11:00:00+00:00  111.354  111.386  111.294  111.366  470.0"
      ]
     },
     "execution_count": 27,
     "metadata": {},
     "output_type": "execute_result"
    }
   ],
   "source": [
    "og = PandasGetter(MSSQLGetter(OandaGetter(\"USD_JPY\", \"H1\")))\n",
    "    \n",
    "st = lib.str2epoch(\"2019/04/02 07:00\", \"%Y/%m/%d %H:%M\")\n",
    "ed = lib.str2epoch(\"2019/04/02 12:00\", \"%Y/%m/%d %H:%M\")\n",
    "og.retrievePrice(st, ed)\n",
    "df = og.getPrice(st, ed)\n",
    "df"
   ]
  },
  {
   "cell_type": "code",
   "execution_count": 30,
   "metadata": {},
   "outputs": [
    {
     "name": "stderr",
     "output_type": "stream",
     "text": [
      "c:\\users\\kot\\appdata\\local\\programs\\python\\python37\\lib\\site-packages\\ipykernel_launcher.py:7: UserWarning: Attempting to set identical left==right results\n",
      "in singular transformations; automatically expanding.\n",
      "left=737151.0, right=737151.0\n",
      "  import sys\n"
     ]
    },
    {
     "data": {
      "image/png": "[encoded data removed]",
      "text/plain": [
       "<Figure size 432x288 with 1 Axes>"
      ]
     },
     "metadata": {
      "needs_background": "light"
     },
     "output_type": "display_data"
    }
   ],
   "source": [
    "fig, ax = plt.subplots()\n",
    "#ax.xaxis.set_major_locator(ticker.MaxNLocator(6))\n",
    "#xdate = [x.date() for x in df.index]\n",
    "ohlc = np.vstack((date2num(df.index), df.values.T)).T\n",
    "mpl_finance.candlestick_ohlc(ax, ohlc, width=0.7, colorup='g', colordown='r')\n",
    "ax.grid()\n",
    "ax.set_xlim(df.index[0].date(), df.index[-1].date())\n",
    "ax.format_xdata = mdates.DateFormatter('%Y-%m-%d %H:%M')\n",
    "fig.autofmt_xdate()\n",
    "fig.tight_layout()"
   ]
  },
  {
   "cell_type": "code",
   "execution_count": null,
   "metadata": {},
   "outputs": [],
   "source": []
  }
 ],
 "metadata": {
  "kernelspec": {
   "display_name": "Python 3",
   "language": "python",
   "name": "python3"
  },
  "language_info": {
   "codemirror_mode": {
    "name": "ipython",
    "version": 3
   },
   "file_extension": ".py",
   "mimetype": "text/x-python",
   "name": "python",
   "nbconvert_exporter": "python",
   "pygments_lexer": "ipython3",
   "version": "3.7.3"
  },
  "widgets": {
   "application/vnd.jupyter.widget-state+json": {
    "state": {},
    "version_major": 2,
    "version_minor": 0
   }
  }
 },
 "nbformat": 4,
 "nbformat_minor": 2
}
