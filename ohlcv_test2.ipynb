{
 "cells": [
  {
   "cell_type": "code",
   "execution_count": null,
   "metadata": {},
   "outputs": [],
   "source": [
    "%matplotlib inline\n",
    "\n",
    "import env\n",
    "import lib\n",
    "env.run_mode = env.MODE_UNITTEST\n",
    "from data_getter.mssql import MSSQLGetter\n",
    "from data_getter.oanda import OandaGetter\n",
    "from data_getter import DataGetter\n",
    "import plotly.offline\n",
    "plotly.offline.init_notebook_mode()\n",
    "\n",
    "import matplotlib.pyplot as plt\n",
    "from matplotlib import ticker \n",
    "import numpy as np\n",
    "import pandas as pd\n",
    "import mpl_finance\n",
    "import matplotlib.dates as md"
   ]
  },
  {
   "cell_type": "code",
   "execution_count": 16,
   "metadata": {},
   "outputs": [
    {
     "data": {
      "image/png": "[encoded data removed]",
      "text/plain": [
       "<Figure size 432x288 with 1 Axes>"
      ]
     },
     "metadata": {
      "needs_background": "light"
     },
     "output_type": "display_data"
    }
   ],
   "source": [
    "dg = DataGetter(MSSQLGetter(OandaGetter(\"USD_JPY\", \"H1\")))\n",
    "    \n",
    "st = lib.str2epoch(\"2019/04/02 07:00\", \"%Y/%m/%d %H:%M\")\n",
    "ed = lib.str2epoch(\"2019/04/02 20:00\", \"%Y/%m/%d %H:%M\")\n",
    "dg.retrievePrice(st, ed)\n",
    "\n",
    "(t, o, h, l, c, v) = dg.getPrice(st, ed)\n",
    "fig, ax = plt.subplots()\n",
    "mpl_finance.candlestick2_ohlc(ax, opens=o, closes=c,lows=l, highs=h,\n",
    "                          width=0.8, colorup='darkgray', colordown='k', alpha=1)\n",
    "\n",
    "plt.plot([None, None, 111.30, 111.31,111.32,111.33,111.34])\n",
    "\n",
    "xdate = []\n",
    "for ep in t:\n",
    "    xdate.append(lib.epoch2dt(ep))\n",
    "\n",
    "def mydate(x, pos):\n",
    "    try:\n",
    "        return xdate[int(x)]\n",
    "    except IndexError:\n",
    "        return ''\n",
    "\n",
    "ax.xaxis.set_major_formatter(ticker.FuncFormatter(mydate))\n",
    "#ax.format_xdata = md.DateFormatter('%H:%M')\n",
    "#xtformat = md.DateFormatter('%H:%M')\n",
    "#ax.xaxis.set_major_formatter(xtformat)\n",
    "ax.grid()\n",
    "fig.autofmt_xdate()\n",
    "fig.tight_layout()\n",
    "#plotly.offline.iplot_mpl(fig)"
   ]
  },
  {
   "cell_type": "code",
   "execution_count": null,
   "metadata": {},
   "outputs": [],
   "source": []
  }
 ],
 "metadata": {
  "kernelspec": {
   "display_name": "Python 3",
   "language": "python",
   "name": "python3"
  },
  "language_info": {
   "codemirror_mode": {
    "name": "ipython",
    "version": 3
   },
   "file_extension": ".py",
   "mimetype": "text/x-python",
   "name": "python",
   "nbconvert_exporter": "python",
   "pygments_lexer": "ipython3",
   "version": "3.7.3"
  }
 },
 "nbformat": 4,
 "nbformat_minor": 2
}
