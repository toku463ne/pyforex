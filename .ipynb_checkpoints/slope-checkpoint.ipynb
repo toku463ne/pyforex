{
 "cells": [
  {
   "cell_type": "code",
   "execution_count": 1,
   "metadata": {},
   "outputs": [
    {
     "ename": "NameError",
     "evalue": "name 'runSlope' is not defined",
     "output_type": "error",
     "traceback": [
      "\u001b[1;31m---------------------------------------------------------------------------\u001b[0m",
      "\u001b[1;31mNameError\u001b[0m                                 Traceback (most recent call last)",
      "\u001b[1;32m<ipython-input-1-86115f205c0a>\u001b[0m in \u001b[0;36m<module>\u001b[1;34m\u001b[0m\n\u001b[0;32m      9\u001b[0m \u001b[0mgranularity\u001b[0m \u001b[1;33m=\u001b[0m \u001b[1;34m\"H1\"\u001b[0m\u001b[1;33m\u001b[0m\u001b[1;33m\u001b[0m\u001b[0m\n\u001b[0;32m     10\u001b[0m \u001b[1;33m\u001b[0m\u001b[0m\n\u001b[1;32m---> 11\u001b[1;33m \u001b[0mpo\u001b[0m\u001b[1;33m,\u001b[0m \u001b[0mpe\u001b[0m \u001b[1;33m=\u001b[0m \u001b[0mrunSlope\u001b[0m\u001b[1;33m(\u001b[0m\u001b[0minstrument\u001b[0m\u001b[1;33m,\u001b[0m \u001b[0mgranularity\u001b[0m\u001b[1;33m,\u001b[0m \u001b[0mstartstr\u001b[0m\u001b[1;33m,\u001b[0m \u001b[0mendstr\u001b[0m\u001b[1;33m)\u001b[0m\u001b[1;33m\u001b[0m\u001b[1;33m\u001b[0m\u001b[0m\n\u001b[0m",
      "\u001b[1;31mNameError\u001b[0m: name 'runSlope' is not defined"
     ]
    }
   ],
   "source": [
    "%matplotlib inline\n",
    "import lib\n",
    "import env\n",
    "\n",
    "from backtests import runSlope\n",
    "startstr = \"2013-01-01T00:00:00\"\n",
    "endstr = \"2014-01-01T00:00:00\"\n",
    "instrument = \"USD_JPY\"\n",
    "granularity = \"H1\"\n",
    "\n",
    "po, pe = runSlope(instrument, granularity, startstr, endstr)"
   ]
  },
  {
   "cell_type": "code",
   "execution_count": null,
   "metadata": {},
   "outputs": [],
   "source": [
    "po.getSum(\"m\")"
   ]
  },
  {
   "cell_type": "code",
   "execution_count": null,
   "metadata": {},
   "outputs": [],
   "source": [
    "po.getTotalProfit()"
   ]
  },
  {
   "cell_type": "code",
   "execution_count": null,
   "metadata": {},
   "outputs": [],
   "source": [
    "import plotly.offline\n",
    "plotly.offline.init_notebook_mode()\n",
    "import charts.matohlcv as m\n",
    "startep = lib.str2epoch(startstr, env.DATE_FORMAT_NORMAL)\n",
    "endep = lib.str2epoch(endstr, env.DATE_FORMAT_NORMAL)\n",
    "\n",
    "\n",
    "m.plot(instrument, granularity, startep, endep, pe)"
   ]
  },
  {
   "cell_type": "code",
   "execution_count": null,
   "metadata": {},
   "outputs": [],
   "source": []
  }
 ],
 "metadata": {
  "kernelspec": {
   "display_name": "Python 3",
   "language": "python",
   "name": "python3"
  },
  "language_info": {
   "codemirror_mode": {
    "name": "ipython",
    "version": 3
   },
   "file_extension": ".py",
   "mimetype": "text/x-python",
   "name": "python",
   "nbconvert_exporter": "python",
   "pygments_lexer": "ipython3",
   "version": "3.7.3"
  }
 },
 "nbformat": 4,
 "nbformat_minor": 2
}
